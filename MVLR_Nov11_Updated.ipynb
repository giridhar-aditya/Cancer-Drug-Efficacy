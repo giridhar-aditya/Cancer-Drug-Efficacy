{
 "cells": [
  {
   "cell_type": "code",
   "execution_count": null,
   "metadata": {
    "id": "7yjSQTNjaeAd"
   },
   "outputs": [],
   "source": [
    "import pandas as pd\n",
    "import numpy as np\n",
    "import statsmodels.api as sm\n",
    "from sklearn.model_selection import train_test_split\n",
    "from sklearn.metrics import r2_score,mean_squared_error\n",
    "from sklearn.preprocessing import LabelEncoder"
   ]
  },
  {
   "cell_type": "code",
   "execution_count": null,
   "metadata": {
    "id": "z5DhqEJYa5m5"
   },
   "outputs": [],
   "source": [
    "#ORIGINAL DATA WITH OLS MODEL\n",
    "df = pd.read_csv('C30ALL.csv')\n",
    "enc = LabelEncoder()\n",
    "df['Sex'] = enc.fit_transform(df['Sex'])\n",
    "df['Tumor_Grade'] = enc.fit_transform(df['Tumor_Grade'])\n",
    "df['Tumor_Stage'] = enc.fit_transform(df['Tumor_Stage'])\n",
    "df['Clinical_Staging'] = enc.fit_transform(df['Clinical_Staging'])\n",
    "x = df.iloc[:,:-5].values\n",
    "x = np.array(x)\n",
    "x = sm.add_constant(x)\n",
    "y = df.iloc[:,-5:].values\n",
    "y = np.array(y)\n",
    "x_train,x_test,y_train,y_test = train_test_split(x,y,test_size = 0.4,random_state=220)\n",
    "title = ['Paclitaxel','Vincristine','Daunorubicin','Vinblastine','Doxurubicin']\n",
    "for i in range(5):\n",
    "  y_train_ = y_train[:,i]\n",
    "  model = sm.OLS(y_train_,x_train).fit()\n",
    "  model.predict(x_test)\n",
    "  print(title[i])\n",
    "  y_pred = model.predict(x_test)\n",
    "  test_accuracy = r2_score(y_test[:, i], y_pred)\n",
    "  print(f'Test Accuracy: {test_accuracy:.4f}\\n')"
   ]
  },
  {
   "cell_type": "code",
   "execution_count": 244,
   "metadata": {
    "colab": {
     "base_uri": "https://localhost:8080/"
    },
    "id": "TGjPH2lQmofL",
    "outputId": "e6afc9bd-c33e-4489-df2f-5b3331ffcb08"
   },
   "outputs": [
    {
     "name": "stdout",
     "output_type": "stream",
     "text": [
      "Paclitaxel\t : 0.7793802629289592\n",
      "Vincristine\t : 0.7616497005477186\n",
      "Daunorubicin\t : 0.7468620833491141\n",
      "Vinblastine\t : 0.7347381370587596\n",
      "Doxurubicin\t : 0.7035542502707886\n"
     ]
    }
   ],
   "source": [
    "#ORGINAL DATA WITH SVR\n",
    "from sklearn.svm import SVR\n",
    "df = pd.read_csv('360ALL.csv')\n",
    "cts = ['Sex', 'Age', 'Tumor_Grade', 'Tumor_Stage', 'Clinical_Staging', 'ABCB1-2', 'ABCC1-2', 'ABCC2-2', 'ABCC3-2', 'ABCC5-2', 'ABCG2-2',\n",
    " 'CDK2-2', 'CDKN1A-2', 'LRP1-2', 'STAT5B-2', 'TP53-2', 'Paclitaxel', 'Vincristine', 'Daunorubicin', 'Vinblastine', 'Doxorubicin']\n",
    "nf = np.log(df.iloc[:,5:-5])\n",
    "for i in range(11):\n",
    "  df.insert(5+i,cts[5+i],nf.iloc[:,i])\n",
    "x = df.iloc[:,:-5].values\n",
    "y = df.iloc[:,-5:].values\n",
    "x_train,x_test,y_train,y_test = train_test_split(x,y,test_size = 0.4,random_state=8)\n",
    "svr = SVR(kernel ='poly')\n",
    "title = ['Paclitaxel','Vincristine','Daunorubicin','Vinblastine','Doxurubicin']\n",
    "for i in range(5):\n",
    "  svr.fit(x_train,y_train[:,i])\n",
    "  y_pred = svr.predict(x_test)\n",
    "  test_accuracy = r2_score(y_test[:, i], y_pred)\n",
    "  print(f'{title[i]} Accuracy: {test_accuracy:.4f}')"
   ]
  },
  {
   "cell_type": "code",
   "execution_count": 188,
   "metadata": {
    "colab": {
     "base_uri": "https://localhost:8080/"
    },
    "id": "GCGwwQb3mwRJ",
    "outputId": "a33c2b02-0571-4108-c167-5a6abb81afea"
   },
   "outputs": [
    {
     "name": "stdout",
     "output_type": "stream",
     "text": [
      "Paclitaxel 0.0\n",
      "Vincristine 0.0\n",
      "Daunorubicin 0.0\n",
      "Vinblastine 0.0\n",
      "Doxurubicin 0.0\n"
     ]
    }
   ],
   "source": [
    "#ORGINAL DATA WITH DECISION TREE\n",
    "from sklearn.tree import DecisionTreeClassifier\n",
    "df = pd.read_csv('360ALL.csv')\n",
    "enc = LabelEncoder()\n",
    "df['Sex'] = enc.fit_transform(df['Sex'])\n",
    "df['Tumor_Grade'] = enc.fit_transform(df['Tumor_Grade'])\n",
    "df['Tumor_Stage'] = enc.fit_transform(df['Tumor_Stage'])\n",
    "df['Clinical_Staging'] = enc.fit_transform(df['Clinical_Staging'])\n",
    "x = df.iloc[:,:-5].values\n",
    "y = df.iloc[:,-5:].values\n",
    "x_train,x_test,y_train,y_test = train_test_split(x,y,test_size = 0.4,random_state=220)\n",
    "x_train = x_train.astype(int)\n",
    "y_train = y_train.astype(int)\n",
    "tree = DecisionTreeClassifier(criterion = 'entropy',max_depth = 10)\n",
    "for i in range(5):\n",
    "  tree.fit(x_train,y_train[:,i])\n",
    "  print(title[i],r2_score(tree.predict(x_test),y_test[:,i]))"
   ]
  },
  {
   "cell_type": "code",
   "execution_count": 31,
   "metadata": {
    "colab": {
     "base_uri": "https://localhost:8080/"
    },
    "id": "gePcg4FoZCCx",
    "outputId": "d63f99d9-16c4-4a64-fc94-168d15716df9"
   },
   "outputs": [
    {
     "name": "stderr",
     "output_type": "stream",
     "text": [
      "Gen. (2.87) | Discrim. (-0.08): 100%|██████████| 20/20 [00:13<00:00,  1.46it/s]\n"
     ]
    }
   ],
   "source": [
    "#SYNTHETIC DATA\n",
    "import pandas as pd\n",
    "data = pd.read_csv('C30ALL.csv')\n",
    "import csv\n",
    "with open ('C30ALL.csv','r') as fptr:\n",
    "  read = csv.reader(fptr)\n",
    "  categorical = []\n",
    "  for i in read:\n",
    "    categorical.append(i)\n",
    "categorical_features = categorical[0]\n",
    "from ctgan import CTGAN\n",
    "ctgan = CTGAN(verbose=True)\n",
    "ctgan.fit(data, categorical_features, epochs = 20)\n",
    "samples = ctgan.sample(1000)\n",
    "samples.to_csv('synthetic.csv')"
   ]
  },
  {
   "cell_type": "code",
   "execution_count": 191,
   "metadata": {
    "colab": {
     "base_uri": "https://localhost:8080/",
     "height": 391
    },
    "id": "lh0P8g3jl0FK",
    "outputId": "7f098d3f-584d-4a9d-edb0-b8989100112e"
   },
   "outputs": [
    {
     "ename": "IndexError",
     "evalue": "ignored",
     "output_type": "error",
     "traceback": [
      "\u001b[0;31m---------------------------------------------------------------------------\u001b[0m",
      "\u001b[0;31mIndexError\u001b[0m                                Traceback (most recent call last)",
      "\u001b[0;32m<ipython-input-191-d4e06be9d121>\u001b[0m in \u001b[0;36m<cell line: 7>\u001b[0;34m()\u001b[0m\n\u001b[1;32m      6\u001b[0m \u001b[0mnf\u001b[0m \u001b[0;34m=\u001b[0m \u001b[0mnp\u001b[0m\u001b[0;34m.\u001b[0m\u001b[0msquare\u001b[0m\u001b[0;34m(\u001b[0m\u001b[0mdf\u001b[0m\u001b[0;34m.\u001b[0m\u001b[0miloc\u001b[0m\u001b[0;34m[\u001b[0m\u001b[0;34m:\u001b[0m\u001b[0;34m,\u001b[0m\u001b[0;36m6\u001b[0m\u001b[0;34m:\u001b[0m\u001b[0;34m-\u001b[0m\u001b[0;36m5\u001b[0m\u001b[0;34m]\u001b[0m\u001b[0;34m)\u001b[0m\u001b[0;34m\u001b[0m\u001b[0;34m\u001b[0m\u001b[0m\n\u001b[1;32m      7\u001b[0m \u001b[0;32mfor\u001b[0m \u001b[0mi\u001b[0m \u001b[0;32min\u001b[0m \u001b[0mrange\u001b[0m\u001b[0;34m(\u001b[0m\u001b[0;36m11\u001b[0m\u001b[0;34m)\u001b[0m\u001b[0;34m:\u001b[0m\u001b[0;34m\u001b[0m\u001b[0;34m\u001b[0m\u001b[0m\n\u001b[0;32m----> 8\u001b[0;31m   \u001b[0mdf\u001b[0m\u001b[0;34m.\u001b[0m\u001b[0minsert\u001b[0m\u001b[0;34m(\u001b[0m\u001b[0;36m5\u001b[0m\u001b[0;34m+\u001b[0m\u001b[0mi\u001b[0m\u001b[0;34m,\u001b[0m\u001b[0mcts\u001b[0m\u001b[0;34m[\u001b[0m\u001b[0;36m5\u001b[0m\u001b[0;34m+\u001b[0m\u001b[0mi\u001b[0m\u001b[0;34m]\u001b[0m\u001b[0;34m,\u001b[0m\u001b[0mnf\u001b[0m\u001b[0;34m.\u001b[0m\u001b[0miloc\u001b[0m\u001b[0;34m[\u001b[0m\u001b[0;34m:\u001b[0m\u001b[0;34m,\u001b[0m\u001b[0mi\u001b[0m\u001b[0;34m]\u001b[0m\u001b[0;34m)\u001b[0m\u001b[0;34m\u001b[0m\u001b[0;34m\u001b[0m\u001b[0m\n\u001b[0m\u001b[1;32m      9\u001b[0m \u001b[0menc\u001b[0m \u001b[0;34m=\u001b[0m \u001b[0mLabelEncoder\u001b[0m\u001b[0;34m(\u001b[0m\u001b[0;34m)\u001b[0m\u001b[0;34m\u001b[0m\u001b[0;34m\u001b[0m\u001b[0m\n\u001b[1;32m     10\u001b[0m \u001b[0mdf\u001b[0m\u001b[0;34m[\u001b[0m\u001b[0;34m'Sex'\u001b[0m\u001b[0;34m]\u001b[0m \u001b[0;34m=\u001b[0m \u001b[0menc\u001b[0m\u001b[0;34m.\u001b[0m\u001b[0mfit_transform\u001b[0m\u001b[0;34m(\u001b[0m\u001b[0mdf\u001b[0m\u001b[0;34m[\u001b[0m\u001b[0;34m'Sex'\u001b[0m\u001b[0;34m]\u001b[0m\u001b[0;34m)\u001b[0m\u001b[0;34m\u001b[0m\u001b[0;34m\u001b[0m\u001b[0m\n",
      "\u001b[0;32m/usr/local/lib/python3.10/dist-packages/pandas/core/indexing.py\u001b[0m in \u001b[0;36m__getitem__\u001b[0;34m(self, key)\u001b[0m\n\u001b[1;32m   1095\u001b[0m             \u001b[0;32mif\u001b[0m \u001b[0mself\u001b[0m\u001b[0;34m.\u001b[0m\u001b[0m_is_scalar_access\u001b[0m\u001b[0;34m(\u001b[0m\u001b[0mkey\u001b[0m\u001b[0;34m)\u001b[0m\u001b[0;34m:\u001b[0m\u001b[0;34m\u001b[0m\u001b[0;34m\u001b[0m\u001b[0m\n\u001b[1;32m   1096\u001b[0m                 \u001b[0;32mreturn\u001b[0m \u001b[0mself\u001b[0m\u001b[0;34m.\u001b[0m\u001b[0mobj\u001b[0m\u001b[0;34m.\u001b[0m\u001b[0m_get_value\u001b[0m\u001b[0;34m(\u001b[0m\u001b[0;34m*\u001b[0m\u001b[0mkey\u001b[0m\u001b[0;34m,\u001b[0m \u001b[0mtakeable\u001b[0m\u001b[0;34m=\u001b[0m\u001b[0mself\u001b[0m\u001b[0;34m.\u001b[0m\u001b[0m_takeable\u001b[0m\u001b[0;34m)\u001b[0m\u001b[0;34m\u001b[0m\u001b[0;34m\u001b[0m\u001b[0m\n\u001b[0;32m-> 1097\u001b[0;31m             \u001b[0;32mreturn\u001b[0m \u001b[0mself\u001b[0m\u001b[0;34m.\u001b[0m\u001b[0m_getitem_tuple\u001b[0m\u001b[0;34m(\u001b[0m\u001b[0mkey\u001b[0m\u001b[0;34m)\u001b[0m\u001b[0;34m\u001b[0m\u001b[0;34m\u001b[0m\u001b[0m\n\u001b[0m\u001b[1;32m   1098\u001b[0m         \u001b[0;32melse\u001b[0m\u001b[0;34m:\u001b[0m\u001b[0;34m\u001b[0m\u001b[0;34m\u001b[0m\u001b[0m\n\u001b[1;32m   1099\u001b[0m             \u001b[0;31m# we by definition only have the 0th axis\u001b[0m\u001b[0;34m\u001b[0m\u001b[0;34m\u001b[0m\u001b[0m\n",
      "\u001b[0;32m/usr/local/lib/python3.10/dist-packages/pandas/core/indexing.py\u001b[0m in \u001b[0;36m_getitem_tuple\u001b[0;34m(self, tup)\u001b[0m\n\u001b[1;32m   1592\u001b[0m \u001b[0;34m\u001b[0m\u001b[0m\n\u001b[1;32m   1593\u001b[0m     \u001b[0;32mdef\u001b[0m \u001b[0m_getitem_tuple\u001b[0m\u001b[0;34m(\u001b[0m\u001b[0mself\u001b[0m\u001b[0;34m,\u001b[0m \u001b[0mtup\u001b[0m\u001b[0;34m:\u001b[0m \u001b[0mtuple\u001b[0m\u001b[0;34m)\u001b[0m\u001b[0;34m:\u001b[0m\u001b[0;34m\u001b[0m\u001b[0;34m\u001b[0m\u001b[0m\n\u001b[0;32m-> 1594\u001b[0;31m         \u001b[0mtup\u001b[0m \u001b[0;34m=\u001b[0m \u001b[0mself\u001b[0m\u001b[0;34m.\u001b[0m\u001b[0m_validate_tuple_indexer\u001b[0m\u001b[0;34m(\u001b[0m\u001b[0mtup\u001b[0m\u001b[0;34m)\u001b[0m\u001b[0;34m\u001b[0m\u001b[0;34m\u001b[0m\u001b[0m\n\u001b[0m\u001b[1;32m   1595\u001b[0m         \u001b[0;32mwith\u001b[0m \u001b[0msuppress\u001b[0m\u001b[0;34m(\u001b[0m\u001b[0mIndexingError\u001b[0m\u001b[0;34m)\u001b[0m\u001b[0;34m:\u001b[0m\u001b[0;34m\u001b[0m\u001b[0;34m\u001b[0m\u001b[0m\n\u001b[1;32m   1596\u001b[0m             \u001b[0;32mreturn\u001b[0m \u001b[0mself\u001b[0m\u001b[0;34m.\u001b[0m\u001b[0m_getitem_lowerdim\u001b[0m\u001b[0;34m(\u001b[0m\u001b[0mtup\u001b[0m\u001b[0;34m)\u001b[0m\u001b[0;34m\u001b[0m\u001b[0;34m\u001b[0m\u001b[0m\n",
      "\u001b[0;32m/usr/local/lib/python3.10/dist-packages/pandas/core/indexing.py\u001b[0m in \u001b[0;36m_validate_tuple_indexer\u001b[0;34m(self, key)\u001b[0m\n\u001b[1;32m    902\u001b[0m         \u001b[0;32mfor\u001b[0m \u001b[0mi\u001b[0m\u001b[0;34m,\u001b[0m \u001b[0mk\u001b[0m \u001b[0;32min\u001b[0m \u001b[0menumerate\u001b[0m\u001b[0;34m(\u001b[0m\u001b[0mkey\u001b[0m\u001b[0;34m)\u001b[0m\u001b[0;34m:\u001b[0m\u001b[0;34m\u001b[0m\u001b[0;34m\u001b[0m\u001b[0m\n\u001b[1;32m    903\u001b[0m             \u001b[0;32mtry\u001b[0m\u001b[0;34m:\u001b[0m\u001b[0;34m\u001b[0m\u001b[0;34m\u001b[0m\u001b[0m\n\u001b[0;32m--> 904\u001b[0;31m                 \u001b[0mself\u001b[0m\u001b[0;34m.\u001b[0m\u001b[0m_validate_key\u001b[0m\u001b[0;34m(\u001b[0m\u001b[0mk\u001b[0m\u001b[0;34m,\u001b[0m \u001b[0mi\u001b[0m\u001b[0;34m)\u001b[0m\u001b[0;34m\u001b[0m\u001b[0;34m\u001b[0m\u001b[0m\n\u001b[0m\u001b[1;32m    905\u001b[0m             \u001b[0;32mexcept\u001b[0m \u001b[0mValueError\u001b[0m \u001b[0;32mas\u001b[0m \u001b[0merr\u001b[0m\u001b[0;34m:\u001b[0m\u001b[0;34m\u001b[0m\u001b[0;34m\u001b[0m\u001b[0m\n\u001b[1;32m    906\u001b[0m                 raise ValueError(\n",
      "\u001b[0;32m/usr/local/lib/python3.10/dist-packages/pandas/core/indexing.py\u001b[0m in \u001b[0;36m_validate_key\u001b[0;34m(self, key, axis)\u001b[0m\n\u001b[1;32m   1494\u001b[0m             \u001b[0;32mreturn\u001b[0m\u001b[0;34m\u001b[0m\u001b[0;34m\u001b[0m\u001b[0m\n\u001b[1;32m   1495\u001b[0m         \u001b[0;32melif\u001b[0m \u001b[0mis_integer\u001b[0m\u001b[0;34m(\u001b[0m\u001b[0mkey\u001b[0m\u001b[0;34m)\u001b[0m\u001b[0;34m:\u001b[0m\u001b[0;34m\u001b[0m\u001b[0;34m\u001b[0m\u001b[0m\n\u001b[0;32m-> 1496\u001b[0;31m             \u001b[0mself\u001b[0m\u001b[0;34m.\u001b[0m\u001b[0m_validate_integer\u001b[0m\u001b[0;34m(\u001b[0m\u001b[0mkey\u001b[0m\u001b[0;34m,\u001b[0m \u001b[0maxis\u001b[0m\u001b[0;34m)\u001b[0m\u001b[0;34m\u001b[0m\u001b[0;34m\u001b[0m\u001b[0m\n\u001b[0m\u001b[1;32m   1497\u001b[0m         \u001b[0;32melif\u001b[0m \u001b[0misinstance\u001b[0m\u001b[0;34m(\u001b[0m\u001b[0mkey\u001b[0m\u001b[0;34m,\u001b[0m \u001b[0mtuple\u001b[0m\u001b[0;34m)\u001b[0m\u001b[0;34m:\u001b[0m\u001b[0;34m\u001b[0m\u001b[0;34m\u001b[0m\u001b[0m\n\u001b[1;32m   1498\u001b[0m             \u001b[0;31m# a tuple should already have been caught by this point\u001b[0m\u001b[0;34m\u001b[0m\u001b[0;34m\u001b[0m\u001b[0m\n",
      "\u001b[0;32m/usr/local/lib/python3.10/dist-packages/pandas/core/indexing.py\u001b[0m in \u001b[0;36m_validate_integer\u001b[0;34m(self, key, axis)\u001b[0m\n\u001b[1;32m   1587\u001b[0m         \u001b[0mlen_axis\u001b[0m \u001b[0;34m=\u001b[0m \u001b[0mlen\u001b[0m\u001b[0;34m(\u001b[0m\u001b[0mself\u001b[0m\u001b[0;34m.\u001b[0m\u001b[0mobj\u001b[0m\u001b[0;34m.\u001b[0m\u001b[0m_get_axis\u001b[0m\u001b[0;34m(\u001b[0m\u001b[0maxis\u001b[0m\u001b[0;34m)\u001b[0m\u001b[0;34m)\u001b[0m\u001b[0;34m\u001b[0m\u001b[0;34m\u001b[0m\u001b[0m\n\u001b[1;32m   1588\u001b[0m         \u001b[0;32mif\u001b[0m \u001b[0mkey\u001b[0m \u001b[0;34m>=\u001b[0m \u001b[0mlen_axis\u001b[0m \u001b[0;32mor\u001b[0m \u001b[0mkey\u001b[0m \u001b[0;34m<\u001b[0m \u001b[0;34m-\u001b[0m\u001b[0mlen_axis\u001b[0m\u001b[0;34m:\u001b[0m\u001b[0;34m\u001b[0m\u001b[0;34m\u001b[0m\u001b[0m\n\u001b[0;32m-> 1589\u001b[0;31m             \u001b[0;32mraise\u001b[0m \u001b[0mIndexError\u001b[0m\u001b[0;34m(\u001b[0m\u001b[0;34m\"single positional indexer is out-of-bounds\"\u001b[0m\u001b[0;34m)\u001b[0m\u001b[0;34m\u001b[0m\u001b[0;34m\u001b[0m\u001b[0m\n\u001b[0m\u001b[1;32m   1590\u001b[0m \u001b[0;34m\u001b[0m\u001b[0m\n\u001b[1;32m   1591\u001b[0m     \u001b[0;31m# -------------------------------------------------------------------\u001b[0m\u001b[0;34m\u001b[0m\u001b[0;34m\u001b[0m\u001b[0m\n",
      "\u001b[0;31mIndexError\u001b[0m: single positional indexer is out-of-bounds"
     ]
    }
   ],
   "source": [
    "#SYNTHETIC DATA WITH SVR\n",
    "from sklearn.svm import SVR\n",
    "df = pd.read_csv('360ALL.csv')\n",
    "cts = ['Sex', 'Age', 'Tumor_Grade', 'Tumor_Stage', 'Clinical_Staging', 'ABCB1-2', 'ABCC1-2', 'ABCC2-2', 'ABCC3-2', 'ABCC5-2', 'ABCG2-2',\n",
    " 'CDK2-2', 'CDKN1A-2', 'LRP1-2', 'STAT5B-2', 'TP53-2', 'Paclitaxel', 'Vincristine', 'Daunorubicin', 'Vinblastine', 'Doxorubicin']\n",
    "nf = np.square(df.iloc[:,6:-5])\n",
    "for i in range(11):\n",
    "  df.insert(5+i,cts[5+i],nf.iloc[:,i])\n",
    "enc = LabelEncoder()\n",
    "df['Sex'] = enc.fit_transform(df['Sex'])\n",
    "df['Tumor_Grade'] = enc.fit_transform(df['Tumor_Grade'])\n",
    "df['Tumor_Stage'] = enc.fit_transform(df['Tumor_Stage'])\n",
    "df['Clinical_Staging'] = enc.fit_transform(df['Clinical_Staging'])\n",
    "x = df.iloc[:,:-5].values\n",
    "y = df.iloc[:,-5:].values\n",
    "x_train,x_test,y_train,y_test = train_test_split(x,y,test_size = 0.2,random_state=42)\n",
    "svr = SVR(kernel ='rbf')\n",
    "title = ['Paclitaxel','Vincristine','Daunorubicin','Vinblastine','Doxurubicin']\n",
    "for i in range(5):\n",
    "  svr.fit(x_train,y_train[:,i])\n",
    "  y_pred = svr.predict(x_test)\n",
    "  test_accuracy = r2_score(y_test[:, i], y_pred)\n",
    "  print(f'{title[i]} Accuracy: {test_accuracy:.4f}')"
   ]
  },
  {
   "cell_type": "code",
   "execution_count": 53,
   "metadata": {
    "colab": {
     "base_uri": "https://localhost:8080/"
    },
    "id": "7_tKjtBplpgn",
    "outputId": "e09aff52-1fcb-4fa9-b208-ebd74d2f59fc"
   },
   "outputs": [
    {
     "name": "stdout",
     "output_type": "stream",
     "text": [
      "Paclitaxel -2.921094762361401\n",
      "Vincristine -1.4055535531595131\n",
      "Daunorubicin -0.5500002637015768\n",
      "Vinblastine -2.1550629306978184\n",
      "Doxurubicin -1.327130397877696\n"
     ]
    }
   ],
   "source": [
    "#SYNTHETIC DATA WITH DECISION TREE\n",
    "from sklearn.tree import DecisionTreeClassifier\n",
    "df = pd.read_csv('synthetic.csv')\n",
    "enc = LabelEncoder()\n",
    "df['Sex'] = enc.fit_transform(df['Sex'])\n",
    "df['Tumor_Grade'] = enc.fit_transform(df['Tumor_Grade'])\n",
    "df['Tumor_Stage'] = enc.fit_transform(df['Tumor_Stage'])\n",
    "df['Clinical_Staging'] = enc.fit_transform(df['Clinical_Staging'])\n",
    "df.iloc[:,5:-5] = np.square(df.iloc[:,5:-5])\n",
    "x = df.iloc[:,:-5].values\n",
    "y = df.iloc[:,-5:].values\n",
    "x_train,x_test,y_train,y_test = train_test_split(x,y,test_size = 0.4,random_state=220)\n",
    "x_train = x_train.astype(int)\n",
    "y_train = y_train.astype(int)\n",
    "tree = DecisionTreeClassifier(criterion = 'entropy',max_depth = 50)\n",
    "for i in range(5):\n",
    "  tree.fit(x_train,y_train[:,i])\n",
    "  print(title[i],r2_score(tree.predict(x_test),y_test[:,i]))"
   ]
  },
  {
   "cell_type": "code",
   "execution_count": 198,
   "metadata": {
    "colab": {
     "base_uri": "https://localhost:8080/"
    },
    "id": "y9V2mLcH66Oy",
    "outputId": "e09c4aa4-0ff6-4b54-ffdd-35ef55a68bf0"
   },
   "outputs": [
    {
     "name": "stdout",
     "output_type": "stream",
     "text": [
      "(341, 21)\n",
      "(341, 11)\n",
      "Paclitaxel 0.0\n",
      "Vincristine 0.0\n",
      "Daunorubicin 0.0\n",
      "Vinblastine 0.0\n",
      "Doxurubicin 0.0\n"
     ]
    }
   ],
   "source": [
    "#SYNTHETIC DATA WITH DECISION TREE AFTER SQUARING GENES\n",
    "from sklearn.tree import DecisionTreeClassifier\n",
    "df = pd.read_csv('360ALL.csv')\n",
    "print(df.shape)\n",
    "cts = ['Sex', 'Age', 'Tumor_Grade', 'Tumor_Stage', 'Clinical_Staging', 'ABCB1-2', 'ABCC1-2', 'ABCC2-2', 'ABCC3-2', 'ABCC5-2', 'ABCG2-2',\n",
    " 'CDK2-2', 'CDKN1A-2', 'LRP1-2', 'STAT5B-2', 'TP53-2', 'Paclitaxel', 'Vincristine', 'Daunorubicin', 'Vinblastine', 'Doxorubicin']\n",
    "nf = np.square(df.iloc[:,5:-5])\n",
    "print(nf.shape)\n",
    "for i in range(11):\n",
    "  df.insert(5+i,cts[5+i],nf.iloc[:,i])\n",
    "enc = LabelEncoder()\n",
    "df['Sex'] = enc.fit_transform(df['Sex'])\n",
    "df['Tumor_Grade'] = enc.fit_transform(df['Tumor_Grade'])\n",
    "df['Tumor_Stage'] = enc.fit_transform(df['Tumor_Stage'])\n",
    "df['Clinical_Staging'] = enc.fit_transform(df['Clinical_Staging'])\n",
    "x = df.iloc[:,:-5].values\n",
    "y = df.iloc[:,-5:].values\n",
    "x_train,x_test,y_train,y_test = train_test_split(x,y,test_size = 0.4,random_state=220)\n",
    "x_train = x_train.astype(int)\n",
    "y_train = y_train.astype(int)\n",
    "tree = DecisionTreeClassifier(criterion = 'entropy',max_depth = 50)\n",
    "for i in range(5):\n",
    "  tree.fit(x_train,y_train[:,i])\n",
    "  print(title[i],r2_score(tree.predict(x_test),y_test[:,i]))"
   ]
  }
 ],
 "metadata": {
  "colab": {
   "provenance": []
  },
  "kernelspec": {
   "display_name": "Python 3",
   "name": "python3"
  },
  "language_info": {
   "name": "python"
  }
 },
 "nbformat": 4,
 "nbformat_minor": 0
}
